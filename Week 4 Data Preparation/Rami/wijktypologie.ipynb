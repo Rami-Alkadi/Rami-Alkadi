{
  "nbformat": 4,
  "nbformat_minor": 0,
  "metadata": {
    "colab": {
      "name": "wijktypologie.ipynb",
      "provenance": [],
      "authorship_tag": "ABX9TyMj32bZe46RL8Do6KKADIoU",
      "include_colab_link": true
    },
    "kernelspec": {
      "name": "python3",
      "display_name": "Python 3"
    },
    "language_info": {
      "name": "python"
    }
  },
  "cells": [
    {
      "cell_type": "markdown",
      "metadata": {
        "id": "view-in-github",
        "colab_type": "text"
      },
      "source": [
        "<a href=\"https://colab.research.google.com/github/Rami-Alkadi/Rami-Alkadi_webdevpage/blob/main/Week%204%20Data%20Preparation/Rami/wijktypologie.ipynb\" target=\"_parent\"><img src=\"https://colab.research.google.com/assets/colab-badge.svg\" alt=\"Open In Colab\"/></a>"
      ]
    },
    {
      "cell_type": "code",
      "source": [
        "import pandas as pd"
      ],
      "metadata": {
        "id": "_JxyNKNI_993"
      },
      "execution_count": null,
      "outputs": []
    },
    {
      "cell_type": "code",
      "source": [
        "!pip install geopandas"
      ],
      "metadata": {
        "colab": {
          "base_uri": "https://localhost:8080/"
        },
        "id": "qaeHChkTABzo",
        "outputId": "746ffdc0-9a60-4081-f7e1-349d86046bd2"
      },
      "execution_count": null,
      "outputs": [
        {
          "output_type": "stream",
          "name": "stdout",
          "text": [
            "Looking in indexes: https://pypi.org/simple, https://us-python.pkg.dev/colab-wheels/public/simple/\n",
            "Collecting geopandas\n",
            "  Downloading geopandas-0.10.2-py2.py3-none-any.whl (1.0 MB)\n",
            "\u001b[K     |████████████████████████████████| 1.0 MB 5.0 MB/s \n",
            "\u001b[?25hRequirement already satisfied: pandas>=0.25.0 in /usr/local/lib/python3.7/dist-packages (from geopandas) (1.3.5)\n",
            "Collecting fiona>=1.8\n",
            "  Downloading Fiona-1.8.21-cp37-cp37m-manylinux2014_x86_64.whl (16.7 MB)\n",
            "\u001b[K     |████████████████████████████████| 16.7 MB 38.3 MB/s \n",
            "\u001b[?25hRequirement already satisfied: shapely>=1.6 in /usr/local/lib/python3.7/dist-packages (from geopandas) (1.8.2)\n",
            "Collecting pyproj>=2.2.0\n",
            "  Downloading pyproj-3.2.1-cp37-cp37m-manylinux2010_x86_64.whl (6.3 MB)\n",
            "\u001b[K     |████████████████████████████████| 6.3 MB 38.2 MB/s \n",
            "\u001b[?25hRequirement already satisfied: attrs>=17 in /usr/local/lib/python3.7/dist-packages (from fiona>=1.8->geopandas) (21.4.0)\n",
            "Requirement already satisfied: setuptools in /usr/local/lib/python3.7/dist-packages (from fiona>=1.8->geopandas) (57.4.0)\n",
            "Requirement already satisfied: certifi in /usr/local/lib/python3.7/dist-packages (from fiona>=1.8->geopandas) (2022.5.18.1)\n",
            "Requirement already satisfied: six>=1.7 in /usr/local/lib/python3.7/dist-packages (from fiona>=1.8->geopandas) (1.15.0)\n",
            "Collecting click-plugins>=1.0\n",
            "  Downloading click_plugins-1.1.1-py2.py3-none-any.whl (7.5 kB)\n",
            "Collecting cligj>=0.5\n",
            "  Downloading cligj-0.7.2-py3-none-any.whl (7.1 kB)\n",
            "Collecting munch\n",
            "  Downloading munch-2.5.0-py2.py3-none-any.whl (10 kB)\n",
            "Requirement already satisfied: click>=4.0 in /usr/local/lib/python3.7/dist-packages (from fiona>=1.8->geopandas) (7.1.2)\n",
            "Requirement already satisfied: pytz>=2017.3 in /usr/local/lib/python3.7/dist-packages (from pandas>=0.25.0->geopandas) (2022.1)\n",
            "Requirement already satisfied: numpy>=1.17.3 in /usr/local/lib/python3.7/dist-packages (from pandas>=0.25.0->geopandas) (1.21.6)\n",
            "Requirement already satisfied: python-dateutil>=2.7.3 in /usr/local/lib/python3.7/dist-packages (from pandas>=0.25.0->geopandas) (2.8.2)\n",
            "Installing collected packages: munch, cligj, click-plugins, pyproj, fiona, geopandas\n",
            "Successfully installed click-plugins-1.1.1 cligj-0.7.2 fiona-1.8.21 geopandas-0.10.2 munch-2.5.0 pyproj-3.2.1\n"
          ]
        }
      ]
    },
    {
      "cell_type": "code",
      "source": [
        "import geopandas"
      ],
      "metadata": {
        "id": "JTprgMl5ADBu"
      },
      "execution_count": null,
      "outputs": []
    },
    {
      "cell_type": "code",
      "source": [
        "import matplotlib.pyplot as plt"
      ],
      "metadata": {
        "id": "WSBU_fktAFx7"
      },
      "execution_count": null,
      "outputs": []
    },
    {
      "cell_type": "code",
      "source": [
        "!pip install mapclassify"
      ],
      "metadata": {
        "colab": {
          "base_uri": "https://localhost:8080/"
        },
        "id": "eri9bpM1AG3G",
        "outputId": "f7d568f3-5b43-4ec5-a74e-246d4d0e363d"
      },
      "execution_count": null,
      "outputs": [
        {
          "output_type": "stream",
          "name": "stdout",
          "text": [
            "Looking in indexes: https://pypi.org/simple, https://us-python.pkg.dev/colab-wheels/public/simple/\n",
            "Collecting mapclassify\n",
            "  Downloading mapclassify-2.4.3-py3-none-any.whl (38 kB)\n",
            "Requirement already satisfied: networkx in /usr/local/lib/python3.7/dist-packages (from mapclassify) (2.6.3)\n",
            "Requirement already satisfied: pandas>=1.0 in /usr/local/lib/python3.7/dist-packages (from mapclassify) (1.3.5)\n",
            "Requirement already satisfied: scikit-learn in /usr/local/lib/python3.7/dist-packages (from mapclassify) (1.0.2)\n",
            "Requirement already satisfied: scipy>=1.0 in /usr/local/lib/python3.7/dist-packages (from mapclassify) (1.4.1)\n",
            "Requirement already satisfied: numpy>=1.3 in /usr/local/lib/python3.7/dist-packages (from mapclassify) (1.21.6)\n",
            "Requirement already satisfied: pytz>=2017.3 in /usr/local/lib/python3.7/dist-packages (from pandas>=1.0->mapclassify) (2022.1)\n",
            "Requirement already satisfied: python-dateutil>=2.7.3 in /usr/local/lib/python3.7/dist-packages (from pandas>=1.0->mapclassify) (2.8.2)\n",
            "Requirement already satisfied: six>=1.5 in /usr/local/lib/python3.7/dist-packages (from python-dateutil>=2.7.3->pandas>=1.0->mapclassify) (1.15.0)\n",
            "Requirement already satisfied: joblib>=0.11 in /usr/local/lib/python3.7/dist-packages (from scikit-learn->mapclassify) (1.1.0)\n",
            "Requirement already satisfied: threadpoolctl>=2.0.0 in /usr/local/lib/python3.7/dist-packages (from scikit-learn->mapclassify) (3.1.0)\n",
            "Installing collected packages: mapclassify\n",
            "Successfully installed mapclassify-2.4.3\n"
          ]
        }
      ]
    },
    {
      "cell_type": "code",
      "source": [
        "!pip install contextily"
      ],
      "metadata": {
        "colab": {
          "base_uri": "https://localhost:8080/"
        },
        "id": "FLaRfKB5AJt3",
        "outputId": "7722e7e6-d870-460f-c531-8f763e26b65e"
      },
      "execution_count": null,
      "outputs": [
        {
          "output_type": "stream",
          "name": "stdout",
          "text": [
            "Looking in indexes: https://pypi.org/simple, https://us-python.pkg.dev/colab-wheels/public/simple/\n",
            "Collecting contextily\n",
            "  Downloading contextily-1.2.0-py3-none-any.whl (16 kB)\n",
            "Requirement already satisfied: matplotlib in /usr/local/lib/python3.7/dist-packages (from contextily) (3.2.2)\n",
            "Requirement already satisfied: requests in /usr/local/lib/python3.7/dist-packages (from contextily) (2.23.0)\n",
            "Requirement already satisfied: joblib in /usr/local/lib/python3.7/dist-packages (from contextily) (1.1.0)\n",
            "Requirement already satisfied: geopy in /usr/local/lib/python3.7/dist-packages (from contextily) (1.17.0)\n",
            "Collecting xyzservices\n",
            "  Downloading xyzservices-2022.4.0-py3-none-any.whl (36 kB)\n",
            "Collecting mercantile\n",
            "  Downloading mercantile-1.2.1-py3-none-any.whl (14 kB)\n",
            "Collecting rasterio\n",
            "  Downloading rasterio-1.2.10-cp37-cp37m-manylinux1_x86_64.whl (19.3 MB)\n",
            "\u001b[K     |████████████████████████████████| 19.3 MB 1.6 MB/s \n",
            "\u001b[?25hRequirement already satisfied: pillow in /usr/local/lib/python3.7/dist-packages (from contextily) (7.1.2)\n",
            "Requirement already satisfied: geographiclib<2,>=1.49 in /usr/local/lib/python3.7/dist-packages (from geopy->contextily) (1.52)\n",
            "Requirement already satisfied: cycler>=0.10 in /usr/local/lib/python3.7/dist-packages (from matplotlib->contextily) (0.11.0)\n",
            "Requirement already satisfied: numpy>=1.11 in /usr/local/lib/python3.7/dist-packages (from matplotlib->contextily) (1.21.6)\n",
            "Requirement already satisfied: kiwisolver>=1.0.1 in /usr/local/lib/python3.7/dist-packages (from matplotlib->contextily) (1.4.2)\n",
            "Requirement already satisfied: python-dateutil>=2.1 in /usr/local/lib/python3.7/dist-packages (from matplotlib->contextily) (2.8.2)\n",
            "Requirement already satisfied: pyparsing!=2.0.4,!=2.1.2,!=2.1.6,>=2.0.1 in /usr/local/lib/python3.7/dist-packages (from matplotlib->contextily) (3.0.9)\n",
            "Requirement already satisfied: typing-extensions in /usr/local/lib/python3.7/dist-packages (from kiwisolver>=1.0.1->matplotlib->contextily) (4.2.0)\n",
            "Requirement already satisfied: six>=1.5 in /usr/local/lib/python3.7/dist-packages (from python-dateutil>=2.1->matplotlib->contextily) (1.15.0)\n",
            "Requirement already satisfied: click>=3.0 in /usr/local/lib/python3.7/dist-packages (from mercantile->contextily) (7.1.2)\n",
            "Collecting affine\n",
            "  Downloading affine-2.3.1-py2.py3-none-any.whl (16 kB)\n",
            "Requirement already satisfied: cligj>=0.5 in /usr/local/lib/python3.7/dist-packages (from rasterio->contextily) (0.7.2)\n",
            "Requirement already satisfied: attrs in /usr/local/lib/python3.7/dist-packages (from rasterio->contextily) (21.4.0)\n",
            "Requirement already satisfied: certifi in /usr/local/lib/python3.7/dist-packages (from rasterio->contextily) (2022.5.18.1)\n",
            "Requirement already satisfied: setuptools in /usr/local/lib/python3.7/dist-packages (from rasterio->contextily) (57.4.0)\n",
            "Requirement already satisfied: click-plugins in /usr/local/lib/python3.7/dist-packages (from rasterio->contextily) (1.1.1)\n",
            "Collecting snuggs>=1.4.1\n",
            "  Downloading snuggs-1.4.7-py3-none-any.whl (5.4 kB)\n",
            "Requirement already satisfied: chardet<4,>=3.0.2 in /usr/local/lib/python3.7/dist-packages (from requests->contextily) (3.0.4)\n",
            "Requirement already satisfied: idna<3,>=2.5 in /usr/local/lib/python3.7/dist-packages (from requests->contextily) (2.10)\n",
            "Requirement already satisfied: urllib3!=1.25.0,!=1.25.1,<1.26,>=1.21.1 in /usr/local/lib/python3.7/dist-packages (from requests->contextily) (1.24.3)\n",
            "Installing collected packages: snuggs, affine, xyzservices, rasterio, mercantile, contextily\n",
            "Successfully installed affine-2.3.1 contextily-1.2.0 mercantile-1.2.1 rasterio-1.2.10 snuggs-1.4.7 xyzservices-2022.4.0\n"
          ]
        }
      ]
    },
    {
      "cell_type": "code",
      "source": [
        "import contextily as cx"
      ],
      "metadata": {
        "id": "KEjfU57_AM7Z"
      },
      "execution_count": null,
      "outputs": []
    },
    {
      "cell_type": "code",
      "execution_count": null,
      "metadata": {
        "colab": {
          "base_uri": "https://localhost:8080/"
        },
        "id": "QrYscHet_pS_",
        "outputId": "eae7226a-c496-4574-8530-223040c683c3"
      },
      "outputs": [
        {
          "output_type": "stream",
          "name": "stdout",
          "text": [
            "      OBJECTID     BU_CODE                                   BU_NAAM  \\\n",
            "0            1  BU00370107                                  Dideldom   \n",
            "1            2  BU00370108                                  Parkwijk   \n",
            "2            3  BU00370109                           Noord Landskant   \n",
            "3            4  BU00370110                             Centrum-Noord   \n",
            "4            5  BU00370112                                 Waterland   \n",
            "...        ...         ...                                       ...   \n",
            "9519      9520  BU19550004                                    Braamt   \n",
            "9520      9521  BU19550005                                   Stokkum   \n",
            "9521      9522  BU19550006                  Verspreide huizen Zeddam   \n",
            "9522      9523  BU19550007  Verspreide huizen Mengelenberg en Lengel   \n",
            "9523      9524  BU19550008                  Verspreide huizen Braamt   \n",
            "\n",
            "       Shape_Leng   BU_CODE_1   TotArea   Bedrijf  weinig_beb     villa  \\\n",
            "0     5501.483373  BU00370107  545475.0  0.620377    0.000000  0.145561   \n",
            "1     6394.435505  BU00370108  920475.0  0.000272    0.089546  0.449876   \n",
            "2      767.378968  BU00370109   11925.0  0.000000    0.000000  0.000000   \n",
            "3     9237.953466  BU00370110  698275.0  0.000000    0.223730  0.141778   \n",
            "4     2652.739700  BU00370112  319675.0  0.000000    0.047235  0.191132   \n",
            "...           ...         ...       ...       ...         ...       ...   \n",
            "9519  1977.392177  BU19550004  145450.0  0.000000    0.000000  0.064627   \n",
            "9520  1951.906030  BU19550005  147050.0  0.000000    0.000340  0.210643   \n",
            "9521  2914.208414  BU19550006   28550.0  0.000000    0.000000  0.514010   \n",
            "9522  3086.375880  BU19550007   41975.0  0.164384    0.008934  0.541989   \n",
            "9523  2610.452217  BU19550008   29325.0  0.000000    0.000000  0.247229   \n",
            "\n",
            "      Historisch  ...     Vinex  Bloemkoolw  Naoorlogse  Tuinstad_l  \\\n",
            "0        0.00000  ...  0.000000    0.164031    0.000000    0.000000   \n",
            "1        0.00000  ...  0.038513    0.021076    0.005486    0.055949   \n",
            "2        0.00000  ...  0.000000    0.000000    0.000000    0.350105   \n",
            "3        0.00000  ...  0.118077    0.042605    0.140489    0.082740   \n",
            "4        0.00000  ...  0.695159    0.000000    0.000000    0.000000   \n",
            "...          ...  ...       ...         ...         ...         ...   \n",
            "9519     0.00000  ...  0.105878    0.408732    0.204710    0.216054   \n",
            "9520     0.00000  ...  0.058993    0.416015    0.061374    0.000000   \n",
            "9521     0.17951  ...  0.018389    0.125219    0.060420    0.102452   \n",
            "9522     0.00000  ...  0.026206    0.085765    0.000000    0.000000   \n",
            "9523     0.00000  ...  0.000000    0.445865    0.271952    0.034953   \n",
            "\n",
            "      Hoogbouw_v       MAX       MAX_name   Shape_Le_1     Shape_Area  \\\n",
            "0            0.0  0.620377        Bedrijf  5501.483373  591021.084787   \n",
            "1            0.0  0.449876          villa  6394.435505  955675.265121   \n",
            "2            0.0  0.645702      Volkswijk   767.378968   24189.709345   \n",
            "3            0.0  0.215710      Volkswijk  9237.953466  773734.897839   \n",
            "4            0.0  0.695159          Vinex  2652.739700  335106.718468   \n",
            "...          ...       ...            ...          ...            ...   \n",
            "9519         0.0  0.408732  Bloemkoolwijk  1977.392177  171109.102811   \n",
            "9520         0.0  0.416015  Bloemkoolwijk  1951.906030  158301.282841   \n",
            "9521         0.0  0.514010          villa  2914.208414   53530.995718   \n",
            "9522         0.0  0.541989          villa  3086.375880   50890.286090   \n",
            "9523         0.0  0.445865  Bloemkoolwijk  2610.452217   51556.617585   \n",
            "\n",
            "                                               geometry  \n",
            "0     MULTIPOLYGON (((260630.782 555149.759, 260879....  \n",
            "1     MULTIPOLYGON (((260499.942 555495.293, 260422....  \n",
            "2     MULTIPOLYGON (((259164.918 557572.867, 259116....  \n",
            "3     MULTIPOLYGON (((258548.531 558577.329, 258548....  \n",
            "4     MULTIPOLYGON (((260457.808 557899.978, 260432....  \n",
            "...                                                 ...  \n",
            "9519  MULTIPOLYGON (((215505.995 437797.668, 215516....  \n",
            "9520  MULTIPOLYGON (((212703.433 432529.526, 212693....  \n",
            "9521  MULTIPOLYGON (((215342.876 434841.814, 215296....  \n",
            "9522  MULTIPOLYGON (((215872.099 432502.843, 215674....  \n",
            "9523  MULTIPOLYGON (((215864.000 435569.906, 215647....  \n",
            "\n",
            "[9524 rows x 27 columns]\n"
          ]
        }
      ],
      "source": [
        "df = geopandas.read_file('/content/Wijktypologie.gpkg')\n",
        "print(df)\n"
      ]
    },
    {
      "cell_type": "code",
      "source": [
        "print(df[['MAX','MAX_name','BU_NAAM']])"
      ],
      "metadata": {
        "colab": {
          "base_uri": "https://localhost:8080/"
        },
        "id": "zFmaAjZ-AQ6e",
        "outputId": "b56c42c1-44d9-4229-9cf8-57173821f20f"
      },
      "execution_count": null,
      "outputs": [
        {
          "output_type": "stream",
          "name": "stdout",
          "text": [
            "           MAX       MAX_name                                   BU_NAAM\n",
            "0     0.620377        Bedrijf                                  Dideldom\n",
            "1     0.449876          villa                                  Parkwijk\n",
            "2     0.645702      Volkswijk                           Noord Landskant\n",
            "3     0.215710      Volkswijk                             Centrum-Noord\n",
            "4     0.695159          Vinex                                 Waterland\n",
            "...        ...            ...                                       ...\n",
            "9519  0.408732  Bloemkoolwijk                                    Braamt\n",
            "9520  0.416015  Bloemkoolwijk                                   Stokkum\n",
            "9521  0.514010          villa                  Verspreide huizen Zeddam\n",
            "9522  0.541989          villa  Verspreide huizen Mengelenberg en Lengel\n",
            "9523  0.445865  Bloemkoolwijk                  Verspreide huizen Braamt\n",
            "\n",
            "[9524 rows x 3 columns]\n"
          ]
        }
      ]
    },
    {
      "cell_type": "code",
      "source": [
        "\n",
        "filter_data = df[['BU_NAAM','MAX_name']]\n",
        "x = filter_data.groupby(['BU_NAAM']).agg(pd.Series.mode).reset_index()\n",
        "x.shape"
      ],
      "metadata": {
        "colab": {
          "base_uri": "https://localhost:8080/"
        },
        "id": "ffmRgG5Ufnb1",
        "outputId": "2b4ca7f1-6a48-4fb9-da83-35d0c86e3109"
      },
      "execution_count": null,
      "outputs": [
        {
          "output_type": "execute_result",
          "data": {
            "text/plain": [
              "(8821, 2)"
            ]
          },
          "metadata": {},
          "execution_count": 66
        }
      ]
    },
    {
      "cell_type": "code",
      "source": [
        ""
      ],
      "metadata": {
        "id": "ovjpIcH-AoMa"
      },
      "execution_count": null,
      "outputs": []
    }
  ]
}