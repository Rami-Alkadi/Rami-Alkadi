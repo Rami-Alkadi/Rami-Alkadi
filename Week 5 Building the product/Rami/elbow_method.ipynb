{
  "nbformat": 4,
  "nbformat_minor": 0,
  "metadata": {
    "colab": {
      "name": "elbow method.ipynb",
      "provenance": [],
      "collapsed_sections": [],
      "authorship_tag": "ABX9TyOg8Bu0WE0d+r9nt4LIEh6T",
      "include_colab_link": true
    },
    "kernelspec": {
      "name": "python3",
      "display_name": "Python 3"
    },
    "language_info": {
      "name": "python"
    }
  },
  "cells": [
    {
      "cell_type": "markdown",
      "metadata": {
        "id": "view-in-github",
        "colab_type": "text"
      },
      "source": [
        "<a href=\"https://colab.research.google.com/github/Rami-Alkadi/Rami-Alkadi_webdevpage/blob/main/Week%205%20Building%20the%20product/Rami/elbow_method.ipynb\" target=\"_parent\"><img src=\"https://colab.research.google.com/assets/colab-badge.svg\" alt=\"Open In Colab\"/></a>"
      ]
    },
    {
      "cell_type": "code",
      "execution_count": null,
      "metadata": {
        "id": "Wdv69b8ej2Ej"
      },
      "outputs": [],
      "source": [
        "#importing all needed libraries\n",
        "\n",
        "from numpy import unique\n",
        "from numpy import where\n",
        "from matplotlib import pyplot\n",
        "from sklearn.datasets import make_classification\n",
        "from sklearn.cluster import DBSCAN\n",
        "from sklearn import metrics\n",
        "from sklearn.datasets import make_blobs\n",
        "from sklearn.preprocessing import StandardScaler\n",
        "import numpy as np\n",
        "import pandas as pd\n",
        "import matplotlib.pyplot as plt\n",
        "import seaborn as sns\n",
        "from plotnine import ggplot, aes, geom_line\n",
        "from plotnine import *\n",
        "from plotnine.data import mpg\n",
        "from sklearn.metrics import silhouette_score\n",
        "from sklearn import decomposition\n",
        "from sklearn import datasets\n",
        "from sklearn.neighbors import NearestNeighbors\n"
      ]
    },
    {
      "cell_type": "markdown",
      "source": [
        "Scale data\n"
      ],
      "metadata": {
        "id": "pnAPl-zYkwDA"
      }
    },
    {
      "cell_type": "code",
      "source": [
        "df = pd.read_excel(\"/content/dataframe_Breda.xlsx\")\n",
        "df1 = df.drop(\"neighborhood_name\", 1)\n",
        "\n",
        "z = StandardScaler()\n",
        "scaled_df1 = z.fit_transform(df1)\n"
      ],
      "metadata": {
        "colab": {
          "base_uri": "https://localhost:8080/"
        },
        "id": "SexDZoO6kDyn",
        "outputId": "3a042b8a-2af8-4930-a1a6-fc77719373c2"
      },
      "execution_count": null,
      "outputs": [
        {
          "output_type": "stream",
          "name": "stderr",
          "text": [
            "/usr/local/lib/python3.7/dist-packages/ipykernel_launcher.py:2: FutureWarning: In a future version of pandas all arguments of DataFrame.drop except for the argument 'labels' will be keyword-only\n",
            "  \n"
          ]
        }
      ]
    },
    {
      "cell_type": "markdown",
      "source": [
        "PCA"
      ],
      "metadata": {
        "id": "FFUY5zmekx3f"
      }
    },
    {
      "cell_type": "code",
      "source": [
        "#pca model\n",
        "\n",
        "pca = decomposition.PCA(n_components=2)\n",
        "\n",
        "#fitting the model\n",
        "\n",
        "pca.fit(scaled_df1)\n",
        "\n",
        "pcaData = pca.transform(scaled_df1)\n",
        "\n",
        "x = pcaData[:,0]\n",
        "y = pcaData[:,1]\n",
        "pcaData.shape\n"
      ],
      "metadata": {
        "colab": {
          "base_uri": "https://localhost:8080/"
        },
        "id": "j1owUw-mkton",
        "outputId": "7d3f8444-0af8-4fd7-cc7a-00fae49ef3cd"
      },
      "execution_count": null,
      "outputs": [
        {
          "output_type": "execute_result",
          "data": {
            "text/plain": [
              "(41, 2)"
            ]
          },
          "metadata": {},
          "execution_count": 15
        }
      ]
    },
    {
      "cell_type": "code",
      "source": [
        "pcaData"
      ],
      "metadata": {
        "colab": {
          "base_uri": "https://localhost:8080/"
        },
        "id": "fRl5hKNalIKu",
        "outputId": "175355a6-9687-4fd5-a643-7cd25ff78937"
      },
      "execution_count": null,
      "outputs": [
        {
          "output_type": "execute_result",
          "data": {
            "text/plain": [
              "array([[ 8.27170185e+00,  7.62872765e+00],\n",
              "       [ 3.57610423e+00,  6.23694067e+00],\n",
              "       [ 1.14061378e+01,  5.09434132e-01],\n",
              "       [ 1.42591555e+01,  6.60196041e+00],\n",
              "       [ 9.35093120e+00,  3.57821261e+00],\n",
              "       [ 1.11822388e+01,  9.58753564e+00],\n",
              "       [ 4.95806607e-01, -1.62529947e+00],\n",
              "       [ 6.11316435e+00, -1.80019548e+00],\n",
              "       [ 5.40552645e+00, -4.39234170e+00],\n",
              "       [ 6.90224822e+00, -5.69966370e+00],\n",
              "       [ 3.82151567e+00, -4.82042033e+00],\n",
              "       [ 5.90409195e+00, -4.76172664e+00],\n",
              "       [-3.07834206e+00, -8.01229138e+00],\n",
              "       [ 4.08527007e+00,  3.10355735e-03],\n",
              "       [-4.62329231e+00,  3.39784524e+00],\n",
              "       [-2.93446983e+00,  1.63251645e+00],\n",
              "       [-7.83041162e-01, -4.24865047e-01],\n",
              "       [-4.24466121e+00,  2.73881858e-02],\n",
              "       [-2.36032868e+00,  2.58217124e+00],\n",
              "       [-5.87989214e+00,  4.59686302e+00],\n",
              "       [-6.92870161e+00,  2.31185269e+00],\n",
              "       [-4.21073560e+00,  1.69954683e+00],\n",
              "       [-8.04292721e+00,  8.50604370e+00],\n",
              "       [ 4.55029277e+00, -3.62880131e+00],\n",
              "       [ 4.77955373e+00, -2.12537762e+00],\n",
              "       [ 8.13219767e+00,  4.59547677e-01],\n",
              "       [-2.95295931e+00, -7.46014914e-01],\n",
              "       [-3.52416016e+00, -3.01567892e+00],\n",
              "       [-1.14074460e+01,  7.21002078e+00],\n",
              "       [-1.53727523e+00, -2.71621739e+00],\n",
              "       [-2.04933711e+00, -3.59770042e+00],\n",
              "       [ 2.39521637e+00, -6.67976411e+00],\n",
              "       [-1.11563287e+00, -4.05580423e+00],\n",
              "       [-2.16275748e+00, -1.44140012e+00],\n",
              "       [-2.35317376e+00, -3.33183343e+00],\n",
              "       [-2.75702695e+00, -6.32230118e+00],\n",
              "       [-7.04403750e+00,  4.66719659e-01],\n",
              "       [-9.26713629e+00, -6.47839827e-01],\n",
              "       [-8.38975840e+00,  2.54855289e+00],\n",
              "       [-6.57727169e+00,  3.22506872e-01],\n",
              "       [-6.40678862e+00, -6.19527007e-02]])"
            ]
          },
          "metadata": {},
          "execution_count": 16
        }
      ]
    },
    {
      "cell_type": "code",
      "source": [
        "\n",
        "\n",
        "pca_df = pd.DataFrame(data = pcaData, columns = ['pca1', 'pca2'])\n",
        "pca_df\n"
      ],
      "metadata": {
        "colab": {
          "base_uri": "https://localhost:8080/",
          "height": 1000
        },
        "id": "cRorf-nRbodS",
        "outputId": "de824406-6c1e-4bbe-b74d-f9c583de30d3"
      },
      "execution_count": null,
      "outputs": [
        {
          "output_type": "execute_result",
          "data": {
            "text/plain": [
              "         pca1      pca2\n",
              "0    8.271702  7.628728\n",
              "1    3.576104  6.236941\n",
              "2   11.406138  0.509434\n",
              "3   14.259155  6.601960\n",
              "4    9.350931  3.578213\n",
              "5   11.182239  9.587536\n",
              "6    0.495807 -1.625299\n",
              "7    6.113164 -1.800195\n",
              "8    5.405526 -4.392342\n",
              "9    6.902248 -5.699664\n",
              "10   3.821516 -4.820420\n",
              "11   5.904092 -4.761727\n",
              "12  -3.078342 -8.012291\n",
              "13   4.085270  0.003104\n",
              "14  -4.623292  3.397845\n",
              "15  -2.934470  1.632516\n",
              "16  -0.783041 -0.424865\n",
              "17  -4.244661  0.027388\n",
              "18  -2.360329  2.582171\n",
              "19  -5.879892  4.596863\n",
              "20  -6.928702  2.311853\n",
              "21  -4.210736  1.699547\n",
              "22  -8.042927  8.506044\n",
              "23   4.550293 -3.628801\n",
              "24   4.779554 -2.125378\n",
              "25   8.132198  0.459548\n",
              "26  -2.952959 -0.746015\n",
              "27  -3.524160 -3.015679\n",
              "28 -11.407446  7.210021\n",
              "29  -1.537275 -2.716217\n",
              "30  -2.049337 -3.597700\n",
              "31   2.395216 -6.679764\n",
              "32  -1.115633 -4.055804\n",
              "33  -2.162757 -1.441400\n",
              "34  -2.353174 -3.331833\n",
              "35  -2.757027 -6.322301\n",
              "36  -7.044037  0.466720\n",
              "37  -9.267136 -0.647840\n",
              "38  -8.389758  2.548553\n",
              "39  -6.577272  0.322507\n",
              "40  -6.406789 -0.061953"
            ],
            "text/html": [
              "\n",
              "  <div id=\"df-c43a9818-6e26-4304-8a04-6def6210bc7e\">\n",
              "    <div class=\"colab-df-container\">\n",
              "      <div>\n",
              "<style scoped>\n",
              "    .dataframe tbody tr th:only-of-type {\n",
              "        vertical-align: middle;\n",
              "    }\n",
              "\n",
              "    .dataframe tbody tr th {\n",
              "        vertical-align: top;\n",
              "    }\n",
              "\n",
              "    .dataframe thead th {\n",
              "        text-align: right;\n",
              "    }\n",
              "</style>\n",
              "<table border=\"1\" class=\"dataframe\">\n",
              "  <thead>\n",
              "    <tr style=\"text-align: right;\">\n",
              "      <th></th>\n",
              "      <th>pca1</th>\n",
              "      <th>pca2</th>\n",
              "    </tr>\n",
              "  </thead>\n",
              "  <tbody>\n",
              "    <tr>\n",
              "      <th>0</th>\n",
              "      <td>8.271702</td>\n",
              "      <td>7.628728</td>\n",
              "    </tr>\n",
              "    <tr>\n",
              "      <th>1</th>\n",
              "      <td>3.576104</td>\n",
              "      <td>6.236941</td>\n",
              "    </tr>\n",
              "    <tr>\n",
              "      <th>2</th>\n",
              "      <td>11.406138</td>\n",
              "      <td>0.509434</td>\n",
              "    </tr>\n",
              "    <tr>\n",
              "      <th>3</th>\n",
              "      <td>14.259155</td>\n",
              "      <td>6.601960</td>\n",
              "    </tr>\n",
              "    <tr>\n",
              "      <th>4</th>\n",
              "      <td>9.350931</td>\n",
              "      <td>3.578213</td>\n",
              "    </tr>\n",
              "    <tr>\n",
              "      <th>5</th>\n",
              "      <td>11.182239</td>\n",
              "      <td>9.587536</td>\n",
              "    </tr>\n",
              "    <tr>\n",
              "      <th>6</th>\n",
              "      <td>0.495807</td>\n",
              "      <td>-1.625299</td>\n",
              "    </tr>\n",
              "    <tr>\n",
              "      <th>7</th>\n",
              "      <td>6.113164</td>\n",
              "      <td>-1.800195</td>\n",
              "    </tr>\n",
              "    <tr>\n",
              "      <th>8</th>\n",
              "      <td>5.405526</td>\n",
              "      <td>-4.392342</td>\n",
              "    </tr>\n",
              "    <tr>\n",
              "      <th>9</th>\n",
              "      <td>6.902248</td>\n",
              "      <td>-5.699664</td>\n",
              "    </tr>\n",
              "    <tr>\n",
              "      <th>10</th>\n",
              "      <td>3.821516</td>\n",
              "      <td>-4.820420</td>\n",
              "    </tr>\n",
              "    <tr>\n",
              "      <th>11</th>\n",
              "      <td>5.904092</td>\n",
              "      <td>-4.761727</td>\n",
              "    </tr>\n",
              "    <tr>\n",
              "      <th>12</th>\n",
              "      <td>-3.078342</td>\n",
              "      <td>-8.012291</td>\n",
              "    </tr>\n",
              "    <tr>\n",
              "      <th>13</th>\n",
              "      <td>4.085270</td>\n",
              "      <td>0.003104</td>\n",
              "    </tr>\n",
              "    <tr>\n",
              "      <th>14</th>\n",
              "      <td>-4.623292</td>\n",
              "      <td>3.397845</td>\n",
              "    </tr>\n",
              "    <tr>\n",
              "      <th>15</th>\n",
              "      <td>-2.934470</td>\n",
              "      <td>1.632516</td>\n",
              "    </tr>\n",
              "    <tr>\n",
              "      <th>16</th>\n",
              "      <td>-0.783041</td>\n",
              "      <td>-0.424865</td>\n",
              "    </tr>\n",
              "    <tr>\n",
              "      <th>17</th>\n",
              "      <td>-4.244661</td>\n",
              "      <td>0.027388</td>\n",
              "    </tr>\n",
              "    <tr>\n",
              "      <th>18</th>\n",
              "      <td>-2.360329</td>\n",
              "      <td>2.582171</td>\n",
              "    </tr>\n",
              "    <tr>\n",
              "      <th>19</th>\n",
              "      <td>-5.879892</td>\n",
              "      <td>4.596863</td>\n",
              "    </tr>\n",
              "    <tr>\n",
              "      <th>20</th>\n",
              "      <td>-6.928702</td>\n",
              "      <td>2.311853</td>\n",
              "    </tr>\n",
              "    <tr>\n",
              "      <th>21</th>\n",
              "      <td>-4.210736</td>\n",
              "      <td>1.699547</td>\n",
              "    </tr>\n",
              "    <tr>\n",
              "      <th>22</th>\n",
              "      <td>-8.042927</td>\n",
              "      <td>8.506044</td>\n",
              "    </tr>\n",
              "    <tr>\n",
              "      <th>23</th>\n",
              "      <td>4.550293</td>\n",
              "      <td>-3.628801</td>\n",
              "    </tr>\n",
              "    <tr>\n",
              "      <th>24</th>\n",
              "      <td>4.779554</td>\n",
              "      <td>-2.125378</td>\n",
              "    </tr>\n",
              "    <tr>\n",
              "      <th>25</th>\n",
              "      <td>8.132198</td>\n",
              "      <td>0.459548</td>\n",
              "    </tr>\n",
              "    <tr>\n",
              "      <th>26</th>\n",
              "      <td>-2.952959</td>\n",
              "      <td>-0.746015</td>\n",
              "    </tr>\n",
              "    <tr>\n",
              "      <th>27</th>\n",
              "      <td>-3.524160</td>\n",
              "      <td>-3.015679</td>\n",
              "    </tr>\n",
              "    <tr>\n",
              "      <th>28</th>\n",
              "      <td>-11.407446</td>\n",
              "      <td>7.210021</td>\n",
              "    </tr>\n",
              "    <tr>\n",
              "      <th>29</th>\n",
              "      <td>-1.537275</td>\n",
              "      <td>-2.716217</td>\n",
              "    </tr>\n",
              "    <tr>\n",
              "      <th>30</th>\n",
              "      <td>-2.049337</td>\n",
              "      <td>-3.597700</td>\n",
              "    </tr>\n",
              "    <tr>\n",
              "      <th>31</th>\n",
              "      <td>2.395216</td>\n",
              "      <td>-6.679764</td>\n",
              "    </tr>\n",
              "    <tr>\n",
              "      <th>32</th>\n",
              "      <td>-1.115633</td>\n",
              "      <td>-4.055804</td>\n",
              "    </tr>\n",
              "    <tr>\n",
              "      <th>33</th>\n",
              "      <td>-2.162757</td>\n",
              "      <td>-1.441400</td>\n",
              "    </tr>\n",
              "    <tr>\n",
              "      <th>34</th>\n",
              "      <td>-2.353174</td>\n",
              "      <td>-3.331833</td>\n",
              "    </tr>\n",
              "    <tr>\n",
              "      <th>35</th>\n",
              "      <td>-2.757027</td>\n",
              "      <td>-6.322301</td>\n",
              "    </tr>\n",
              "    <tr>\n",
              "      <th>36</th>\n",
              "      <td>-7.044037</td>\n",
              "      <td>0.466720</td>\n",
              "    </tr>\n",
              "    <tr>\n",
              "      <th>37</th>\n",
              "      <td>-9.267136</td>\n",
              "      <td>-0.647840</td>\n",
              "    </tr>\n",
              "    <tr>\n",
              "      <th>38</th>\n",
              "      <td>-8.389758</td>\n",
              "      <td>2.548553</td>\n",
              "    </tr>\n",
              "    <tr>\n",
              "      <th>39</th>\n",
              "      <td>-6.577272</td>\n",
              "      <td>0.322507</td>\n",
              "    </tr>\n",
              "    <tr>\n",
              "      <th>40</th>\n",
              "      <td>-6.406789</td>\n",
              "      <td>-0.061953</td>\n",
              "    </tr>\n",
              "  </tbody>\n",
              "</table>\n",
              "</div>\n",
              "      <button class=\"colab-df-convert\" onclick=\"convertToInteractive('df-c43a9818-6e26-4304-8a04-6def6210bc7e')\"\n",
              "              title=\"Convert this dataframe to an interactive table.\"\n",
              "              style=\"display:none;\">\n",
              "        \n",
              "  <svg xmlns=\"http://www.w3.org/2000/svg\" height=\"24px\"viewBox=\"0 0 24 24\"\n",
              "       width=\"24px\">\n",
              "    <path d=\"M0 0h24v24H0V0z\" fill=\"none\"/>\n",
              "    <path d=\"M18.56 5.44l.94 2.06.94-2.06 2.06-.94-2.06-.94-.94-2.06-.94 2.06-2.06.94zm-11 1L8.5 8.5l.94-2.06 2.06-.94-2.06-.94L8.5 2.5l-.94 2.06-2.06.94zm10 10l.94 2.06.94-2.06 2.06-.94-2.06-.94-.94-2.06-.94 2.06-2.06.94z\"/><path d=\"M17.41 7.96l-1.37-1.37c-.4-.4-.92-.59-1.43-.59-.52 0-1.04.2-1.43.59L10.3 9.45l-7.72 7.72c-.78.78-.78 2.05 0 2.83L4 21.41c.39.39.9.59 1.41.59.51 0 1.02-.2 1.41-.59l7.78-7.78 2.81-2.81c.8-.78.8-2.07 0-2.86zM5.41 20L4 18.59l7.72-7.72 1.47 1.35L5.41 20z\"/>\n",
              "  </svg>\n",
              "      </button>\n",
              "      \n",
              "  <style>\n",
              "    .colab-df-container {\n",
              "      display:flex;\n",
              "      flex-wrap:wrap;\n",
              "      gap: 12px;\n",
              "    }\n",
              "\n",
              "    .colab-df-convert {\n",
              "      background-color: #E8F0FE;\n",
              "      border: none;\n",
              "      border-radius: 50%;\n",
              "      cursor: pointer;\n",
              "      display: none;\n",
              "      fill: #1967D2;\n",
              "      height: 32px;\n",
              "      padding: 0 0 0 0;\n",
              "      width: 32px;\n",
              "    }\n",
              "\n",
              "    .colab-df-convert:hover {\n",
              "      background-color: #E2EBFA;\n",
              "      box-shadow: 0px 1px 2px rgba(60, 64, 67, 0.3), 0px 1px 3px 1px rgba(60, 64, 67, 0.15);\n",
              "      fill: #174EA6;\n",
              "    }\n",
              "\n",
              "    [theme=dark] .colab-df-convert {\n",
              "      background-color: #3B4455;\n",
              "      fill: #D2E3FC;\n",
              "    }\n",
              "\n",
              "    [theme=dark] .colab-df-convert:hover {\n",
              "      background-color: #434B5C;\n",
              "      box-shadow: 0px 1px 3px 1px rgba(0, 0, 0, 0.15);\n",
              "      filter: drop-shadow(0px 1px 2px rgba(0, 0, 0, 0.3));\n",
              "      fill: #FFFFFF;\n",
              "    }\n",
              "  </style>\n",
              "\n",
              "      <script>\n",
              "        const buttonEl =\n",
              "          document.querySelector('#df-c43a9818-6e26-4304-8a04-6def6210bc7e button.colab-df-convert');\n",
              "        buttonEl.style.display =\n",
              "          google.colab.kernel.accessAllowed ? 'block' : 'none';\n",
              "\n",
              "        async function convertToInteractive(key) {\n",
              "          const element = document.querySelector('#df-c43a9818-6e26-4304-8a04-6def6210bc7e');\n",
              "          const dataTable =\n",
              "            await google.colab.kernel.invokeFunction('convertToInteractive',\n",
              "                                                     [key], {});\n",
              "          if (!dataTable) return;\n",
              "\n",
              "          const docLinkHtml = 'Like what you see? Visit the ' +\n",
              "            '<a target=\"_blank\" href=https://colab.research.google.com/notebooks/data_table.ipynb>data table notebook</a>'\n",
              "            + ' to learn more about interactive tables.';\n",
              "          element.innerHTML = '';\n",
              "          dataTable['output_type'] = 'display_data';\n",
              "          await google.colab.output.renderOutput(dataTable, element);\n",
              "          const docLink = document.createElement('div');\n",
              "          docLink.innerHTML = docLinkHtml;\n",
              "          element.appendChild(docLink);\n",
              "        }\n",
              "      </script>\n",
              "    </div>\n",
              "  </div>\n",
              "  "
            ]
          },
          "metadata": {},
          "execution_count": 17
        }
      ]
    },
    {
      "cell_type": "code",
      "source": [
        ""
      ],
      "metadata": {
        "id": "rw1FsHvIYRFe"
      },
      "execution_count": null,
      "outputs": []
    },
    {
      "cell_type": "code",
      "source": [
        "ggplot(pca_df,aes(x = \"pca1\" , y = \"pca2\" )) + geom_point() + theme_minimal()"
      ],
      "metadata": {
        "colab": {
          "base_uri": "https://localhost:8080/",
          "height": 477
        },
        "id": "ltC7gZrfqseY",
        "outputId": "98eabd78-cac0-480d-eb7b-bd696758902a"
      },
      "execution_count": null,
      "outputs": [
        {
          "output_type": "display_data",
          "data": {
            "text/plain": [
              "<Figure size 640x480 with 1 Axes>"
            ],
            "image/png": "[encoded data removed]"
          },
          "metadata": {
            "needs_background": "light"
          }
        },
        {
          "output_type": "execute_result",
          "data": {
            "text/plain": [
              "<ggplot: (8743328821561)>"
            ]
          },
          "metadata": {},
          "execution_count": 18
        }
      ]
    },
    {
      "cell_type": "code",
      "source": [
        "from sklearn import neighbors\n",
        "mins = 3\n",
        "nn = NearestNeighbors(n_neighbors = mins + 1)\n",
        "\n",
        "#  nn.fit(pca_df(x,y))\n",
        " # distances, neighbors = nn.kneighbors(pcaData(x,y))\n",
        "\n",
        "  #distances\n",
        "\n",
        "#neigh = NearestNeighbors(n_neighbors=4)\n",
        "nbrs = nn.fit(pca_df[[\"pca1\",\"pca2\"]])\n",
        "distances, indices = nbrs.kneighbors(pca_df[[\"pca1\",\"pca2\"]])\n",
        "distances\n",
        "\n",
        "# distncases our data points and 3 nearest neihbors"
      ],
      "metadata": {
        "colab": {
          "base_uri": "https://localhost:8080/"
        },
        "id": "IuFDORp0lKL-",
        "outputId": "eb1f247a-e0fa-41cb-8d88-6199f1d2e1f9"
      },
      "execution_count": null,
      "outputs": [
        {
          "output_type": "execute_result",
          "data": {
            "text/plain": [
              "array([[0.        , 3.5082979 , 4.19182634, 4.8975206 ],\n",
              "       [0.        , 4.8975206 , 6.25459631, 6.35747288],\n",
              "       [0.        , 3.27432013, 3.69340972, 5.77494211],\n",
              "       [0.        , 4.28731566, 5.76486915, 6.07485406],\n",
              "       [0.        , 3.34834024, 3.69340972, 4.19182634],\n",
              "       [0.        , 3.5082979 , 4.28731566, 6.28216929],\n",
              "       [0.        , 1.75399385, 2.30727624, 2.66491688],\n",
              "       [0.        , 1.37268376, 2.40548683, 2.68700083],\n",
              "       [0.        , 0.62049399, 1.14648095, 1.64083559],\n",
              "       [0.        , 1.36968678, 1.98727624, 3.13371432],\n",
              "       [0.        , 1.39680777, 1.64083559, 2.0834032 ],\n",
              "       [0.        , 0.62049399, 1.36968678, 1.76530224],\n",
              "       [0.        , 1.7202646 , 4.41656178, 4.53293112],\n",
              "       [0.        , 2.23885281, 2.7137138 , 3.66155419],\n",
              "       [0.        , 1.73686118, 1.74769005, 2.40547884],\n",
              "       [0.        , 1.10972172, 1.2780248 , 2.07196481],\n",
              "       [0.        , 1.71375631, 1.75399385, 2.19355465],\n",
              "       [0.        , 1.50553849, 1.67250276, 2.07196481],\n",
              "       [0.        , 1.10972172, 2.05012966, 2.40547884],\n",
              "       [0.        , 1.73686118, 2.51421429, 3.23959921],\n",
              "       [0.        , 1.48010605, 1.84873424, 2.02014846],\n",
              "       [0.        , 1.2780248 , 1.67250276, 1.74769005],\n",
              "       [0.        , 3.60550441, 4.46770795, 5.96757812],\n",
              "       [0.        , 1.14648095, 1.39680777, 1.52080353],\n",
              "       [0.        , 1.37268376, 1.52080353, 2.23885281],\n",
              "       [0.        , 3.03033574, 3.27432013, 3.34834024],\n",
              "       [0.        , 1.05260606, 1.50553849, 2.19355465],\n",
              "       [0.        , 1.21291501, 1.58551318, 2.0093255 ],\n",
              "       [0.        , 3.60550441, 5.55299211, 6.11411851],\n",
              "       [0.        , 1.01942126, 1.02209271, 1.40437714],\n",
              "       [0.        , 0.40373502, 1.01942126, 1.04003015],\n",
              "       [0.        , 2.34339263, 3.7353351 , 3.78077612],\n",
              "       [0.        , 1.04003015, 1.40437714, 1.43375074],\n",
              "       [0.        , 1.05260606, 1.41999547, 1.71375631],\n",
              "       [0.        , 0.40373502, 1.02209271, 1.21291501],\n",
              "       [0.        , 1.7202646 , 2.79842508, 2.81500874],\n",
              "       [0.        , 0.48853623, 0.82799794, 1.84873424],\n",
              "       [0.        , 2.48684763, 2.85953568, 2.91973501],\n",
              "       [0.        , 1.48010605, 2.47890991, 2.87060777],\n",
              "       [0.        , 0.42056348, 0.48853623, 2.02014846],\n",
              "       [0.        , 0.42056348, 0.82799794, 2.16397245]])"
            ]
          },
          "metadata": {},
          "execution_count": 19
        }
      ]
    },
    {
      "cell_type": "markdown",
      "source": [
        "# sort the distances"
      ],
      "metadata": {
        "id": "OWXfGaKAjih0"
      }
    },
    {
      "cell_type": "code",
      "source": [
        "#distances1 = np.sort(distances, axis=0)\n",
        "#distances1 = distances[:,1]\n",
        "#plt.plot(distances1)\n",
        "\n"
      ],
      "metadata": {
        "id": "olRsgra_ijyA"
      },
      "execution_count": null,
      "outputs": []
    },
    {
      "cell_type": "markdown",
      "source": [
        "Running the renect code will give me different graph based on distance of 2nd column"
      ],
      "metadata": {
        "id": "0CVNYywLqJuQ"
      }
    },
    {
      "cell_type": "markdown",
      "source": [
        "![download.png](data:image/png;base64,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)"
      ],
      "metadata": {
        "id": "_BRgthJWqAKV"
      }
    },
    {
      "cell_type": "code",
      "source": [
        "distances = np.sort(distances[:,mins], axis=0)\n",
        "plt.plot(distances)"
      ],
      "metadata": {
        "colab": {
          "base_uri": "https://localhost:8080/",
          "height": 282
        },
        "id": "Lk3x4MFko0HI",
        "outputId": "d355d8e5-6e29-44f0-868e-f3b87066fb93"
      },
      "execution_count": null,
      "outputs": [
        {
          "output_type": "execute_result",
          "data": {
            "text/plain": [
              "[<matplotlib.lines.Line2D at 0x7f3b6fb36390>]"
            ]
          },
          "metadata": {},
          "execution_count": 21
        },
        {
          "output_type": "display_data",
          "data": {
            "text/plain": [
              "<Figure size 432x288 with 1 Axes>"
            ],
            "image/png": "[encoded data removed]"
          },
          "metadata": {
            "needs_background": "light"
          }
        }
      ]
    },
    {
      "cell_type": "markdown",
      "source": [
        "this graph is my final elbow graph, it grabs the last column, gives us \"mins\" columns that given above, and this will give us the sorted list of all our distnaces"
      ],
      "metadata": {
        "id": "iYEfxh8Qqja9"
      }
    },
    {
      "cell_type": "code",
      "source": [
        "#plot the distances with better plot\n",
        "distances_df = pd.DataFrame({\"distances\":distances,\n",
        "                             \"index\":list(range(0,len(distances)))})\n",
        "plt = (ggplot(distances_df,aes(x=\"index\",y=\"distances\"))+\n",
        " geom_line(color=\"white\",size=2)+theme_minimal()+\n",
        " labs(title=\"Elbow Method for Choosing eps\")+\n",
        " theme(panel_grid_minor = element_blank(),\n",
        "      rect = element_rect(fill=\"#202124ff\"),\n",
        "      axis_text=element_text(color=\"white\"),\n",
        "      axis_title=element_text(color=\"white\"),\n",
        "      plot_title=element_text(color=\"white\"),\n",
        "      panel_border=element_line(color=\"darkgray\"),\n",
        "      plot_background = element_rect(fill=\"#202124ff\")\n",
        "      ))\n",
        "ggsave(plot=plt,filename='elbow.png',dpi=300)\n",
        "plt"
      ],
      "metadata": {
        "colab": {
          "base_uri": "https://localhost:8080/",
          "height": 573
        },
        "id": "KPGxVb4Pk_8C",
        "outputId": "ec91dd0c-c959-44b7-d1f2-1fce27ed3f4c"
      },
      "execution_count": null,
      "outputs": [
        {
          "output_type": "stream",
          "name": "stderr",
          "text": [
            "/usr/local/lib/python3.7/dist-packages/plotnine/ggplot.py:729: PlotnineWarning: Saving 6.4 x 4.8 in image.\n",
            "  from_inches(height, units), units), PlotnineWarning)\n",
            "/usr/local/lib/python3.7/dist-packages/plotnine/ggplot.py:730: PlotnineWarning: Filename: elbow.png\n",
            "  warn('Filename: {}'.format(filename), PlotnineWarning)\n"
          ]
        },
        {
          "output_type": "display_data",
          "data": {
            "text/plain": [
              "<Figure size 640x480 with 1 Axes>"
            ],
            "image/png": "[encoded data removed]"
          },
          "metadata": {}
        },
        {
          "output_type": "execute_result",
          "data": {
            "text/plain": [
              "<ggplot: (8743328440469)>"
            ]
          },
          "metadata": {},
          "execution_count": 22
        }
      ]
    },
    {
      "cell_type": "markdown",
      "source": [
        "After plotting eblow method, now i will try to detect an inflection point, and i would say the inflection point is arround (2.5 to 3). and this will be my eps for my dpscan"
      ],
      "metadata": {
        "id": "-bFtEOV7rhLq"
      }
    },
    {
      "cell_type": "code",
      "source": [
        "db1=DBSCAN(eps=2.5,min_samples=3).fit(pca_df)"
      ],
      "metadata": {
        "id": "ct6KWpghdxqJ"
      },
      "execution_count": null,
      "outputs": []
    },
    {
      "cell_type": "code",
      "source": [
        "labbel=db1.labels_\n",
        "print(labbel)"
      ],
      "metadata": {
        "colab": {
          "base_uri": "https://localhost:8080/"
        },
        "id": "0NVB4mD_dzZ1",
        "outputId": "e126c704-ee34-4b6b-dafa-151192da9078"
      },
      "execution_count": null,
      "outputs": [
        {
          "output_type": "stream",
          "name": "stdout",
          "text": [
            "[-1 -1 -1 -1 -1 -1  0  1  1  1  1  1 -1  1  0  0  0  0  0  0  0  0 -1  1\n",
            "  1 -1  0  0 -1  0  0  1  0  0  0 -1  0  0  0  0  0]\n"
          ]
        }
      ]
    },
    {
      "cell_type": "code",
      "source": [
        "data = pca_df\n",
        "data['Clusters'] = labbel\n",
        "data"
      ],
      "metadata": {
        "colab": {
          "base_uri": "https://localhost:8080/",
          "height": 1000
        },
        "id": "xwqyIgYJY3u2",
        "outputId": "82f43031-ba74-4b1d-ef18-41f4d34df0c2"
      },
      "execution_count": null,
      "outputs": [
        {
          "output_type": "execute_result",
          "data": {
            "text/plain": [
              "         pca1      pca2  Clusters\n",
              "0    8.271702  7.628728        -1\n",
              "1    3.576104  6.236941        -1\n",
              "2   11.406138  0.509434        -1\n",
              "3   14.259155  6.601960        -1\n",
              "4    9.350931  3.578213        -1\n",
              "5   11.182239  9.587536        -1\n",
              "6    0.495807 -1.625299         0\n",
              "7    6.113164 -1.800195         1\n",
              "8    5.405526 -4.392342         1\n",
              "9    6.902248 -5.699664         1\n",
              "10   3.821516 -4.820420         1\n",
              "11   5.904092 -4.761727         1\n",
              "12  -3.078342 -8.012291        -1\n",
              "13   4.085270  0.003104         1\n",
              "14  -4.623292  3.397845         0\n",
              "15  -2.934470  1.632516         0\n",
              "16  -0.783041 -0.424865         0\n",
              "17  -4.244661  0.027388         0\n",
              "18  -2.360329  2.582171         0\n",
              "19  -5.879892  4.596863         0\n",
              "20  -6.928702  2.311853         0\n",
              "21  -4.210736  1.699547         0\n",
              "22  -8.042927  8.506044        -1\n",
              "23   4.550293 -3.628801         1\n",
              "24   4.779554 -2.125378         1\n",
              "25   8.132198  0.459548        -1\n",
              "26  -2.952959 -0.746015         0\n",
              "27  -3.524160 -3.015679         0\n",
              "28 -11.407446  7.210021        -1\n",
              "29  -1.537275 -2.716217         0\n",
              "30  -2.049337 -3.597700         0\n",
              "31   2.395216 -6.679764         1\n",
              "32  -1.115633 -4.055804         0\n",
              "33  -2.162757 -1.441400         0\n",
              "34  -2.353174 -3.331833         0\n",
              "35  -2.757027 -6.322301        -1\n",
              "36  -7.044037  0.466720         0\n",
              "37  -9.267136 -0.647840         0\n",
              "38  -8.389758  2.548553         0\n",
              "39  -6.577272  0.322507         0\n",
              "40  -6.406789 -0.061953         0"
            ],
            "text/html": [
              "\n",
              "  <div id=\"df-4742e6c2-142d-47fe-a93f-4d4426b7d144\">\n",
              "    <div class=\"colab-df-container\">\n",
              "      <div>\n",
              "<style scoped>\n",
              "    .dataframe tbody tr th:only-of-type {\n",
              "        vertical-align: middle;\n",
              "    }\n",
              "\n",
              "    .dataframe tbody tr th {\n",
              "        vertical-align: top;\n",
              "    }\n",
              "\n",
              "    .dataframe thead th {\n",
              "        text-align: right;\n",
              "    }\n",
              "</style>\n",
              "<table border=\"1\" class=\"dataframe\">\n",
              "  <thead>\n",
              "    <tr style=\"text-align: right;\">\n",
              "      <th></th>\n",
              "      <th>pca1</th>\n",
              "      <th>pca2</th>\n",
              "      <th>Clusters</th>\n",
              "    </tr>\n",
              "  </thead>\n",
              "  <tbody>\n",
              "    <tr>\n",
              "      <th>0</th>\n",
              "      <td>8.271702</td>\n",
              "      <td>7.628728</td>\n",
              "      <td>-1</td>\n",
              "    </tr>\n",
              "    <tr>\n",
              "      <th>1</th>\n",
              "      <td>3.576104</td>\n",
              "      <td>6.236941</td>\n",
              "      <td>-1</td>\n",
              "    </tr>\n",
              "    <tr>\n",
              "      <th>2</th>\n",
              "      <td>11.406138</td>\n",
              "      <td>0.509434</td>\n",
              "      <td>-1</td>\n",
              "    </tr>\n",
              "    <tr>\n",
              "      <th>3</th>\n",
              "      <td>14.259155</td>\n",
              "      <td>6.601960</td>\n",
              "      <td>-1</td>\n",
              "    </tr>\n",
              "    <tr>\n",
              "      <th>4</th>\n",
              "      <td>9.350931</td>\n",
              "      <td>3.578213</td>\n",
              "      <td>-1</td>\n",
              "    </tr>\n",
              "    <tr>\n",
              "      <th>5</th>\n",
              "      <td>11.182239</td>\n",
              "      <td>9.587536</td>\n",
              "      <td>-1</td>\n",
              "    </tr>\n",
              "    <tr>\n",
              "      <th>6</th>\n",
              "      <td>0.495807</td>\n",
              "      <td>-1.625299</td>\n",
              "      <td>0</td>\n",
              "    </tr>\n",
              "    <tr>\n",
              "      <th>7</th>\n",
              "      <td>6.113164</td>\n",
              "      <td>-1.800195</td>\n",
              "      <td>1</td>\n",
              "    </tr>\n",
              "    <tr>\n",
              "      <th>8</th>\n",
              "      <td>5.405526</td>\n",
              "      <td>-4.392342</td>\n",
              "      <td>1</td>\n",
              "    </tr>\n",
              "    <tr>\n",
              "      <th>9</th>\n",
              "      <td>6.902248</td>\n",
              "      <td>-5.699664</td>\n",
              "      <td>1</td>\n",
              "    </tr>\n",
              "    <tr>\n",
              "      <th>10</th>\n",
              "      <td>3.821516</td>\n",
              "      <td>-4.820420</td>\n",
              "      <td>1</td>\n",
              "    </tr>\n",
              "    <tr>\n",
              "      <th>11</th>\n",
              "      <td>5.904092</td>\n",
              "      <td>-4.761727</td>\n",
              "      <td>1</td>\n",
              "    </tr>\n",
              "    <tr>\n",
              "      <th>12</th>\n",
              "      <td>-3.078342</td>\n",
              "      <td>-8.012291</td>\n",
              "      <td>-1</td>\n",
              "    </tr>\n",
              "    <tr>\n",
              "      <th>13</th>\n",
              "      <td>4.085270</td>\n",
              "      <td>0.003104</td>\n",
              "      <td>1</td>\n",
              "    </tr>\n",
              "    <tr>\n",
              "      <th>14</th>\n",
              "      <td>-4.623292</td>\n",
              "      <td>3.397845</td>\n",
              "      <td>0</td>\n",
              "    </tr>\n",
              "    <tr>\n",
              "      <th>15</th>\n",
              "      <td>-2.934470</td>\n",
              "      <td>1.632516</td>\n",
              "      <td>0</td>\n",
              "    </tr>\n",
              "    <tr>\n",
              "      <th>16</th>\n",
              "      <td>-0.783041</td>\n",
              "      <td>-0.424865</td>\n",
              "      <td>0</td>\n",
              "    </tr>\n",
              "    <tr>\n",
              "      <th>17</th>\n",
              "      <td>-4.244661</td>\n",
              "      <td>0.027388</td>\n",
              "      <td>0</td>\n",
              "    </tr>\n",
              "    <tr>\n",
              "      <th>18</th>\n",
              "      <td>-2.360329</td>\n",
              "      <td>2.582171</td>\n",
              "      <td>0</td>\n",
              "    </tr>\n",
              "    <tr>\n",
              "      <th>19</th>\n",
              "      <td>-5.879892</td>\n",
              "      <td>4.596863</td>\n",
              "      <td>0</td>\n",
              "    </tr>\n",
              "    <tr>\n",
              "      <th>20</th>\n",
              "      <td>-6.928702</td>\n",
              "      <td>2.311853</td>\n",
              "      <td>0</td>\n",
              "    </tr>\n",
              "    <tr>\n",
              "      <th>21</th>\n",
              "      <td>-4.210736</td>\n",
              "      <td>1.699547</td>\n",
              "      <td>0</td>\n",
              "    </tr>\n",
              "    <tr>\n",
              "      <th>22</th>\n",
              "      <td>-8.042927</td>\n",
              "      <td>8.506044</td>\n",
              "      <td>-1</td>\n",
              "    </tr>\n",
              "    <tr>\n",
              "      <th>23</th>\n",
              "      <td>4.550293</td>\n",
              "      <td>-3.628801</td>\n",
              "      <td>1</td>\n",
              "    </tr>\n",
              "    <tr>\n",
              "      <th>24</th>\n",
              "      <td>4.779554</td>\n",
              "      <td>-2.125378</td>\n",
              "      <td>1</td>\n",
              "    </tr>\n",
              "    <tr>\n",
              "      <th>25</th>\n",
              "      <td>8.132198</td>\n",
              "      <td>0.459548</td>\n",
              "      <td>-1</td>\n",
              "    </tr>\n",
              "    <tr>\n",
              "      <th>26</th>\n",
              "      <td>-2.952959</td>\n",
              "      <td>-0.746015</td>\n",
              "      <td>0</td>\n",
              "    </tr>\n",
              "    <tr>\n",
              "      <th>27</th>\n",
              "      <td>-3.524160</td>\n",
              "      <td>-3.015679</td>\n",
              "      <td>0</td>\n",
              "    </tr>\n",
              "    <tr>\n",
              "      <th>28</th>\n",
              "      <td>-11.407446</td>\n",
              "      <td>7.210021</td>\n",
              "      <td>-1</td>\n",
              "    </tr>\n",
              "    <tr>\n",
              "      <th>29</th>\n",
              "      <td>-1.537275</td>\n",
              "      <td>-2.716217</td>\n",
              "      <td>0</td>\n",
              "    </tr>\n",
              "    <tr>\n",
              "      <th>30</th>\n",
              "      <td>-2.049337</td>\n",
              "      <td>-3.597700</td>\n",
              "      <td>0</td>\n",
              "    </tr>\n",
              "    <tr>\n",
              "      <th>31</th>\n",
              "      <td>2.395216</td>\n",
              "      <td>-6.679764</td>\n",
              "      <td>1</td>\n",
              "    </tr>\n",
              "    <tr>\n",
              "      <th>32</th>\n",
              "      <td>-1.115633</td>\n",
              "      <td>-4.055804</td>\n",
              "      <td>0</td>\n",
              "    </tr>\n",
              "    <tr>\n",
              "      <th>33</th>\n",
              "      <td>-2.162757</td>\n",
              "      <td>-1.441400</td>\n",
              "      <td>0</td>\n",
              "    </tr>\n",
              "    <tr>\n",
              "      <th>34</th>\n",
              "      <td>-2.353174</td>\n",
              "      <td>-3.331833</td>\n",
              "      <td>0</td>\n",
              "    </tr>\n",
              "    <tr>\n",
              "      <th>35</th>\n",
              "      <td>-2.757027</td>\n",
              "      <td>-6.322301</td>\n",
              "      <td>-1</td>\n",
              "    </tr>\n",
              "    <tr>\n",
              "      <th>36</th>\n",
              "      <td>-7.044037</td>\n",
              "      <td>0.466720</td>\n",
              "      <td>0</td>\n",
              "    </tr>\n",
              "    <tr>\n",
              "      <th>37</th>\n",
              "      <td>-9.267136</td>\n",
              "      <td>-0.647840</td>\n",
              "      <td>0</td>\n",
              "    </tr>\n",
              "    <tr>\n",
              "      <th>38</th>\n",
              "      <td>-8.389758</td>\n",
              "      <td>2.548553</td>\n",
              "      <td>0</td>\n",
              "    </tr>\n",
              "    <tr>\n",
              "      <th>39</th>\n",
              "      <td>-6.577272</td>\n",
              "      <td>0.322507</td>\n",
              "      <td>0</td>\n",
              "    </tr>\n",
              "    <tr>\n",
              "      <th>40</th>\n",
              "      <td>-6.406789</td>\n",
              "      <td>-0.061953</td>\n",
              "      <td>0</td>\n",
              "    </tr>\n",
              "  </tbody>\n",
              "</table>\n",
              "</div>\n",
              "      <button class=\"colab-df-convert\" onclick=\"convertToInteractive('df-4742e6c2-142d-47fe-a93f-4d4426b7d144')\"\n",
              "              title=\"Convert this dataframe to an interactive table.\"\n",
              "              style=\"display:none;\">\n",
              "        \n",
              "  <svg xmlns=\"http://www.w3.org/2000/svg\" height=\"24px\"viewBox=\"0 0 24 24\"\n",
              "       width=\"24px\">\n",
              "    <path d=\"M0 0h24v24H0V0z\" fill=\"none\"/>\n",
              "    <path d=\"M18.56 5.44l.94 2.06.94-2.06 2.06-.94-2.06-.94-.94-2.06-.94 2.06-2.06.94zm-11 1L8.5 8.5l.94-2.06 2.06-.94-2.06-.94L8.5 2.5l-.94 2.06-2.06.94zm10 10l.94 2.06.94-2.06 2.06-.94-2.06-.94-.94-2.06-.94 2.06-2.06.94z\"/><path d=\"M17.41 7.96l-1.37-1.37c-.4-.4-.92-.59-1.43-.59-.52 0-1.04.2-1.43.59L10.3 9.45l-7.72 7.72c-.78.78-.78 2.05 0 2.83L4 21.41c.39.39.9.59 1.41.59.51 0 1.02-.2 1.41-.59l7.78-7.78 2.81-2.81c.8-.78.8-2.07 0-2.86zM5.41 20L4 18.59l7.72-7.72 1.47 1.35L5.41 20z\"/>\n",
              "  </svg>\n",
              "      </button>\n",
              "      \n",
              "  <style>\n",
              "    .colab-df-container {\n",
              "      display:flex;\n",
              "      flex-wrap:wrap;\n",
              "      gap: 12px;\n",
              "    }\n",
              "\n",
              "    .colab-df-convert {\n",
              "      background-color: #E8F0FE;\n",
              "      border: none;\n",
              "      border-radius: 50%;\n",
              "      cursor: pointer;\n",
              "      display: none;\n",
              "      fill: #1967D2;\n",
              "      height: 32px;\n",
              "      padding: 0 0 0 0;\n",
              "      width: 32px;\n",
              "    }\n",
              "\n",
              "    .colab-df-convert:hover {\n",
              "      background-color: #E2EBFA;\n",
              "      box-shadow: 0px 1px 2px rgba(60, 64, 67, 0.3), 0px 1px 3px 1px rgba(60, 64, 67, 0.15);\n",
              "      fill: #174EA6;\n",
              "    }\n",
              "\n",
              "    [theme=dark] .colab-df-convert {\n",
              "      background-color: #3B4455;\n",
              "      fill: #D2E3FC;\n",
              "    }\n",
              "\n",
              "    [theme=dark] .colab-df-convert:hover {\n",
              "      background-color: #434B5C;\n",
              "      box-shadow: 0px 1px 3px 1px rgba(0, 0, 0, 0.15);\n",
              "      filter: drop-shadow(0px 1px 2px rgba(0, 0, 0, 0.3));\n",
              "      fill: #FFFFFF;\n",
              "    }\n",
              "  </style>\n",
              "\n",
              "      <script>\n",
              "        const buttonEl =\n",
              "          document.querySelector('#df-4742e6c2-142d-47fe-a93f-4d4426b7d144 button.colab-df-convert');\n",
              "        buttonEl.style.display =\n",
              "          google.colab.kernel.accessAllowed ? 'block' : 'none';\n",
              "\n",
              "        async function convertToInteractive(key) {\n",
              "          const element = document.querySelector('#df-4742e6c2-142d-47fe-a93f-4d4426b7d144');\n",
              "          const dataTable =\n",
              "            await google.colab.kernel.invokeFunction('convertToInteractive',\n",
              "                                                     [key], {});\n",
              "          if (!dataTable) return;\n",
              "\n",
              "          const docLinkHtml = 'Like what you see? Visit the ' +\n",
              "            '<a target=\"_blank\" href=https://colab.research.google.com/notebooks/data_table.ipynb>data table notebook</a>'\n",
              "            + ' to learn more about interactive tables.';\n",
              "          element.innerHTML = '';\n",
              "          dataTable['output_type'] = 'display_data';\n",
              "          await google.colab.output.renderOutput(dataTable, element);\n",
              "          const docLink = document.createElement('div');\n",
              "          docLink.innerHTML = docLinkHtml;\n",
              "          element.appendChild(docLink);\n",
              "        }\n",
              "      </script>\n",
              "    </div>\n",
              "  </div>\n",
              "  "
            ]
          },
          "metadata": {},
          "execution_count": 27
        }
      ]
    },
    {
      "cell_type": "code",
      "source": [
        "nb = df['neighborhood_name']\n",
        "print(nb)"
      ],
      "metadata": {
        "colab": {
          "base_uri": "https://localhost:8080/"
        },
        "id": "wxX6P4kGZ2fb",
        "outputId": "769ebb08-2cc9-4a6f-d5ec-d3ae8ab7474a"
      },
      "execution_count": null,
      "outputs": [
        {
          "output_type": "stream",
          "name": "stdout",
          "text": [
            "0          Valkenberg\n",
            "1              Chassé\n",
            "2          Fellenoord\n",
            "3         Schorsmolen\n",
            "4             Station\n",
            "5                City\n",
            "6             Belcrum\n",
            "7      Doornbos-Linie\n",
            "8            Biesdonk\n",
            "9         Geeren-zuid\n",
            "10          Wisselaar\n",
            "11       Geeren-noord\n",
            "12        Waterdonken\n",
            "13        Brabantpark\n",
            "14          Sportpark\n",
            "15           Zandberg\n",
            "16        Heusdenhout\n",
            "17         Blauwe Kei\n",
            "18            Ypelaar\n",
            "19          Overakker\n",
            "20           Ginneken\n",
            "21           Boeimeer\n",
            "22         Ruitersbos\n",
            "23          Haagpoort\n",
            "24             Heuvel\n",
            "25           Tuinzigt\n",
            "26        Princenhage\n",
            "27         Westerpark\n",
            "28            Liesbos\n",
            "29          Gageldonk\n",
            "30        Kievitsloop\n",
            "31           Kesteren\n",
            "32         Muizenberg\n",
            "33         Heksenwiel\n",
            "34        Overkroeten\n",
            "35            Kroeten\n",
            "36              Bavel\n",
            "37    Nieuw Wolfslaar\n",
            "38          Ulvenhout\n",
            "39        Prinsenbeek\n",
            "40         Teteringen\n",
            "Name: neighborhood_name, dtype: object\n"
          ]
        }
      ]
    },
    {
      "cell_type": "code",
      "source": [
        "final_df = pd.concat([nb, data], axis=1)\n",
        "final_df.sort_values(by=['Clusters'], inplace=True)\n",
        "print(final_df)\n"
      ],
      "metadata": {
        "colab": {
          "base_uri": "https://localhost:8080/"
        },
        "id": "M3jQbFURaWmZ",
        "outputId": "daef9411-d5de-40dc-8123-4682b8253ed8"
      },
      "execution_count": null,
      "outputs": [
        {
          "output_type": "stream",
          "name": "stdout",
          "text": [
            "   neighborhood_name       pca1      pca2  Clusters\n",
            "0         Valkenberg   8.271702  7.628728        -1\n",
            "28           Liesbos -11.407446  7.210021        -1\n",
            "12       Waterdonken  -3.078342 -8.012291        -1\n",
            "25          Tuinzigt   8.132198  0.459548        -1\n",
            "35           Kroeten  -2.757027 -6.322301        -1\n",
            "22        Ruitersbos  -8.042927  8.506044        -1\n",
            "4            Station   9.350931  3.578213        -1\n",
            "3        Schorsmolen  14.259155  6.601960        -1\n",
            "2         Fellenoord  11.406138  0.509434        -1\n",
            "1             Chassé   3.576104  6.236941        -1\n",
            "5               City  11.182239  9.587536        -1\n",
            "38         Ulvenhout  -8.389758  2.548553         0\n",
            "37   Nieuw Wolfslaar  -9.267136 -0.647840         0\n",
            "36             Bavel  -7.044037  0.466720         0\n",
            "33        Heksenwiel  -2.162757 -1.441400         0\n",
            "32        Muizenberg  -1.115633 -4.055804         0\n",
            "30       Kievitsloop  -2.049337 -3.597700         0\n",
            "29         Gageldonk  -1.537275 -2.716217         0\n",
            "27        Westerpark  -3.524160 -3.015679         0\n",
            "26       Princenhage  -2.952959 -0.746015         0\n",
            "34       Overkroeten  -2.353174 -3.331833         0\n",
            "20          Ginneken  -6.928702  2.311853         0\n",
            "39       Prinsenbeek  -6.577272  0.322507         0\n",
            "6            Belcrum   0.495807 -1.625299         0\n",
            "21          Boeimeer  -4.210736  1.699547         0\n",
            "14         Sportpark  -4.623292  3.397845         0\n",
            "15          Zandberg  -2.934470  1.632516         0\n",
            "16       Heusdenhout  -0.783041 -0.424865         0\n",
            "40        Teteringen  -6.406789 -0.061953         0\n",
            "18           Ypelaar  -2.360329  2.582171         0\n",
            "19         Overakker  -5.879892  4.596863         0\n",
            "17        Blauwe Kei  -4.244661  0.027388         0\n",
            "24            Heuvel   4.779554 -2.125378         1\n",
            "13       Brabantpark   4.085270  0.003104         1\n",
            "11      Geeren-noord   5.904092 -4.761727         1\n",
            "10         Wisselaar   3.821516 -4.820420         1\n",
            "9        Geeren-zuid   6.902248 -5.699664         1\n",
            "8           Biesdonk   5.405526 -4.392342         1\n",
            "7     Doornbos-Linie   6.113164 -1.800195         1\n",
            "23         Haagpoort   4.550293 -3.628801         1\n",
            "31          Kesteren   2.395216 -6.679764         1\n"
          ]
        }
      ]
    },
    {
      "cell_type": "code",
      "source": [
        "labelList = [\"Noise\"]\n",
        "labelList = labelList + [\"Cluster\" + str(i) for i in range(1,len(set(db1.labels_)))]\n",
        "#df1[\"gemiddelde_woz_waarde_woning\"] = db1.labels_\n",
        "\n",
        "\n",
        "(ggplot(df1, aes( x = \"pca1\", y = \"pca2\", color = \"factor(gemiddelde_woz_waarde_woning)\")) + geom_point() + theme_minimal() + \n",
        "scale_color_discrete(name = \"Cluster Assignment\", labels = labelList) + theme(panel_grid_major= element_blank())+\n",
        "labs(title = \"DBSCAN with eps = 0.5, min_samples = 2\"))"
      ],
      "metadata": {
        "id": "-1IWk72XugEu",
        "colab": {
          "base_uri": "https://localhost:8080/",
          "height": 131
        },
        "outputId": "44db4762-ac93-4525-eb39-842e0fd75be0"
      },
      "execution_count": null,
      "outputs": [
        {
          "output_type": "error",
          "ename": "SyntaxError",
          "evalue": "ignored",
          "traceback": [
            "\u001b[0;36m  File \u001b[0;32m\"<ipython-input-26-a3484fe9be06>\"\u001b[0;36m, line \u001b[0;32m3\u001b[0m\n\u001b[0;31m    clustered = pd.concat([nbh, frame], axis=1)\u001b[0m\n\u001b[0m             ^\u001b[0m\n\u001b[0;31mSyntaxError\u001b[0m\u001b[0;31m:\u001b[0m invalid character in identifier\n"
          ]
        }
      ]
    }
  ]
}