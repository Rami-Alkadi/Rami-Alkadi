{
  "nbformat": 4,
  "nbformat_minor": 0,
  "metadata": {
    "colab": {
      "name": "elbow method.ipynb",
      "provenance": [],
      "authorship_tag": "ABX9TyPjbF/rOlo5Qm5r1ebFpHF4",
      "include_colab_link": true
    },
    "kernelspec": {
      "name": "python3",
      "display_name": "Python 3"
    },
    "language_info": {
      "name": "python"
    }
  },
  "cells": [
    {
      "cell_type": "markdown",
      "metadata": {
        "id": "view-in-github",
        "colab_type": "text"
      },
      "source": [
        "<a href=\"https://colab.research.google.com/github/Rami-Alkadi/Rami-Alkadi_webdevpage/blob/main/elbow_method.ipynb\" target=\"_parent\"><img src=\"https://colab.research.google.com/assets/colab-badge.svg\" alt=\"Open In Colab\"/></a>"
      ]
    },
    {
      "cell_type": "code",
      "execution_count": 29,
      "metadata": {
        "id": "Wdv69b8ej2Ej"
      },
      "outputs": [],
      "source": [
        "#importing all needed libraries\n",
        "\n",
        "from numpy import unique\n",
        "from numpy import where\n",
        "from matplotlib import pyplot\n",
        "from sklearn.datasets import make_classification\n",
        "from sklearn.cluster import DBSCAN\n",
        "from sklearn import metrics\n",
        "from sklearn.datasets import make_blobs\n",
        "from sklearn.preprocessing import StandardScaler\n",
        "import numpy as np\n",
        "import pandas as pd\n",
        "import matplotlib.pyplot as plt\n",
        "import seaborn as sns\n",
        "from plotnine import ggplot, aes, geom_line\n",
        "from plotnine import *\n",
        "from plotnine.data import mpg\n",
        "from sklearn.metrics import silhouette_score\n",
        "from sklearn import decomposition\n",
        "from sklearn import datasets\n",
        "from sklearn.neighbors import NearestNeighbors\n"
      ]
    },
    {
      "cell_type": "markdown",
      "source": [
        "Scale data\n"
      ],
      "metadata": {
        "id": "pnAPl-zYkwDA"
      }
    },
    {
      "cell_type": "code",
      "source": [
        "df = pd.read_excel(\"/content/dataframe_Breda.xlsx\")\n",
        "df1 = df.drop(\"neighborhood_name\", 1)\n",
        "\n",
        "z = StandardScaler()\n",
        "scaled_df1 = z.fit_transform(df1)\n"
      ],
      "metadata": {
        "colab": {
          "base_uri": "https://localhost:8080/"
        },
        "id": "SexDZoO6kDyn",
        "outputId": "283caaf6-c49a-43d5-de8a-fc7ba86a5a0a"
      },
      "execution_count": 30,
      "outputs": [
        {
          "output_type": "stream",
          "name": "stderr",
          "text": [
            "/usr/local/lib/python3.7/dist-packages/ipykernel_launcher.py:2: FutureWarning: In a future version of pandas all arguments of DataFrame.drop except for the argument 'labels' will be keyword-only\n",
            "  \n"
          ]
        }
      ]
    },
    {
      "cell_type": "code",
      "source": [
        "ggplot(scaled_df1,aes)"
      ],
      "metadata": {
        "colab": {
          "base_uri": "https://localhost:8080/",
          "height": 325
        },
        "id": "ltC7gZrfqseY",
        "outputId": "b8fcac7c-6aa0-4e38-ef53-69c8a69497b4"
      },
      "execution_count": 31,
      "outputs": [
        {
          "output_type": "error",
          "ename": "ValueError",
          "evalue": "ignored",
          "traceback": [
            "\u001b[0;31m---------------------------------------------------------------------------\u001b[0m",
            "\u001b[0;31mValueError\u001b[0m                                Traceback (most recent call last)",
            "\u001b[0;32m<ipython-input-31-3e932c26284f>\u001b[0m in \u001b[0;36m<module>\u001b[0;34m()\u001b[0m\n\u001b[0;32m----> 1\u001b[0;31m \u001b[0mggplot\u001b[0m\u001b[0;34m(\u001b[0m\u001b[0mscaled_df1\u001b[0m\u001b[0;34m,\u001b[0m\u001b[0maes\u001b[0m\u001b[0;34m)\u001b[0m\u001b[0;34m\u001b[0m\u001b[0;34m\u001b[0m\u001b[0m\n\u001b[0m",
            "\u001b[0;32m/usr/local/lib/python3.7/dist-packages/plotnine/ggplot.py\u001b[0m in \u001b[0;36m__init__\u001b[0;34m(self, mapping, data, environment)\u001b[0m\n\u001b[1;32m     54\u001b[0m     \u001b[0;32mdef\u001b[0m \u001b[0m__init__\u001b[0m\u001b[0;34m(\u001b[0m\u001b[0mself\u001b[0m\u001b[0;34m,\u001b[0m \u001b[0mmapping\u001b[0m\u001b[0;34m=\u001b[0m\u001b[0;32mNone\u001b[0m\u001b[0;34m,\u001b[0m \u001b[0mdata\u001b[0m\u001b[0;34m=\u001b[0m\u001b[0;32mNone\u001b[0m\u001b[0;34m,\u001b[0m \u001b[0menvironment\u001b[0m\u001b[0;34m=\u001b[0m\u001b[0;32mNone\u001b[0m\u001b[0;34m)\u001b[0m\u001b[0;34m:\u001b[0m\u001b[0;34m\u001b[0m\u001b[0;34m\u001b[0m\u001b[0m\n\u001b[1;32m     55\u001b[0m         \u001b[0;31m# Allow some sloppiness\u001b[0m\u001b[0;34m\u001b[0m\u001b[0;34m\u001b[0m\u001b[0;34m\u001b[0m\u001b[0m\n\u001b[0;32m---> 56\u001b[0;31m         \u001b[0mmapping\u001b[0m\u001b[0;34m,\u001b[0m \u001b[0mdata\u001b[0m \u001b[0;34m=\u001b[0m \u001b[0morder_as_mapping_data\u001b[0m\u001b[0;34m(\u001b[0m\u001b[0mmapping\u001b[0m\u001b[0;34m,\u001b[0m \u001b[0mdata\u001b[0m\u001b[0;34m)\u001b[0m\u001b[0;34m\u001b[0m\u001b[0;34m\u001b[0m\u001b[0m\n\u001b[0m\u001b[1;32m     57\u001b[0m         \u001b[0;32mif\u001b[0m \u001b[0mmapping\u001b[0m \u001b[0;32mis\u001b[0m \u001b[0;32mNone\u001b[0m\u001b[0;34m:\u001b[0m\u001b[0;34m\u001b[0m\u001b[0;34m\u001b[0m\u001b[0m\n\u001b[1;32m     58\u001b[0m             \u001b[0mmapping\u001b[0m \u001b[0;34m=\u001b[0m \u001b[0maes\u001b[0m\u001b[0;34m(\u001b[0m\u001b[0;34m)\u001b[0m\u001b[0;34m\u001b[0m\u001b[0;34m\u001b[0m\u001b[0m\n",
            "\u001b[0;32m/usr/local/lib/python3.7/dist-packages/plotnine/utils.py\u001b[0m in \u001b[0;36morder_as_mapping_data\u001b[0;34m(*args)\u001b[0m\n\u001b[1;32m   1057\u001b[0m             \u001b[0mmapping\u001b[0m\u001b[0;34m,\u001b[0m \u001b[0mdata\u001b[0m \u001b[0;34m=\u001b[0m \u001b[0mdata\u001b[0m\u001b[0;34m,\u001b[0m \u001b[0mmapping\u001b[0m\u001b[0;34m\u001b[0m\u001b[0;34m\u001b[0m\u001b[0m\n\u001b[1;32m   1058\u001b[0m \u001b[0;34m\u001b[0m\u001b[0m\n\u001b[0;32m-> 1059\u001b[0;31m     \u001b[0;32mif\u001b[0m \u001b[0mmapping\u001b[0m \u001b[0;32mand\u001b[0m \u001b[0;32mnot\u001b[0m \u001b[0misinstance\u001b[0m\u001b[0;34m(\u001b[0m\u001b[0mmapping\u001b[0m\u001b[0;34m,\u001b[0m \u001b[0maes\u001b[0m\u001b[0;34m)\u001b[0m\u001b[0;34m:\u001b[0m\u001b[0;34m\u001b[0m\u001b[0;34m\u001b[0m\u001b[0m\n\u001b[0m\u001b[1;32m   1060\u001b[0m         raise TypeError(\n\u001b[1;32m   1061\u001b[0m             \u001b[0;34m\"Unknown argument type {!r}, expected mapping/aes.\"\u001b[0m\u001b[0;34m\u001b[0m\u001b[0;34m\u001b[0m\u001b[0m\n",
            "\u001b[0;31mValueError\u001b[0m: The truth value of an array with more than one element is ambiguous. Use a.any() or a.all()"
          ]
        }
      ]
    },
    {
      "cell_type": "markdown",
      "source": [
        "PCA"
      ],
      "metadata": {
        "id": "FFUY5zmekx3f"
      }
    },
    {
      "cell_type": "code",
      "source": [
        "#pca model\n",
        "\n",
        "pca = decomposition.PCA(n_components=2)\n",
        "\n",
        "#fitting the model\n",
        "\n",
        "pca.fit(scaled_df1)\n",
        "\n",
        "pcaData = pca.transform(scaled_df1)\n",
        "\n",
        "x = pcaData[:,0]\n",
        "y = pcaData[:,1]\n",
        "pcaData.shape\n"
      ],
      "metadata": {
        "colab": {
          "base_uri": "https://localhost:8080/"
        },
        "id": "j1owUw-mkton",
        "outputId": "001d8de3-b534-4ed4-f751-59526ab629ea"
      },
      "execution_count": 32,
      "outputs": [
        {
          "output_type": "execute_result",
          "data": {
            "text/plain": [
              "(41, 2)"
            ]
          },
          "metadata": {},
          "execution_count": 32
        }
      ]
    },
    {
      "cell_type": "code",
      "source": [
        "pcaData"
      ],
      "metadata": {
        "colab": {
          "base_uri": "https://localhost:8080/"
        },
        "id": "fRl5hKNalIKu",
        "outputId": "160883ce-fd3d-4714-8bd1-d762f17878d6"
      },
      "execution_count": 33,
      "outputs": [
        {
          "output_type": "execute_result",
          "data": {
            "text/plain": [
              "array([[ 8.27170185e+00,  7.62872765e+00],\n",
              "       [ 3.57610423e+00,  6.23694067e+00],\n",
              "       [ 1.14061378e+01,  5.09434132e-01],\n",
              "       [ 1.42591555e+01,  6.60196041e+00],\n",
              "       [ 9.35093120e+00,  3.57821261e+00],\n",
              "       [ 1.11822388e+01,  9.58753564e+00],\n",
              "       [ 4.95806607e-01, -1.62529947e+00],\n",
              "       [ 6.11316435e+00, -1.80019548e+00],\n",
              "       [ 5.40552645e+00, -4.39234170e+00],\n",
              "       [ 6.90224822e+00, -5.69966370e+00],\n",
              "       [ 3.82151567e+00, -4.82042033e+00],\n",
              "       [ 5.90409195e+00, -4.76172664e+00],\n",
              "       [-3.07834206e+00, -8.01229138e+00],\n",
              "       [ 4.08527007e+00,  3.10355735e-03],\n",
              "       [-4.62329231e+00,  3.39784524e+00],\n",
              "       [-2.93446983e+00,  1.63251645e+00],\n",
              "       [-7.83041162e-01, -4.24865047e-01],\n",
              "       [-4.24466121e+00,  2.73881858e-02],\n",
              "       [-2.36032868e+00,  2.58217124e+00],\n",
              "       [-5.87989214e+00,  4.59686302e+00],\n",
              "       [-6.92870161e+00,  2.31185269e+00],\n",
              "       [-4.21073560e+00,  1.69954683e+00],\n",
              "       [-8.04292721e+00,  8.50604370e+00],\n",
              "       [ 4.55029277e+00, -3.62880131e+00],\n",
              "       [ 4.77955373e+00, -2.12537762e+00],\n",
              "       [ 8.13219767e+00,  4.59547677e-01],\n",
              "       [-2.95295931e+00, -7.46014914e-01],\n",
              "       [-3.52416016e+00, -3.01567892e+00],\n",
              "       [-1.14074460e+01,  7.21002078e+00],\n",
              "       [-1.53727523e+00, -2.71621739e+00],\n",
              "       [-2.04933711e+00, -3.59770042e+00],\n",
              "       [ 2.39521637e+00, -6.67976411e+00],\n",
              "       [-1.11563287e+00, -4.05580423e+00],\n",
              "       [-2.16275748e+00, -1.44140012e+00],\n",
              "       [-2.35317376e+00, -3.33183343e+00],\n",
              "       [-2.75702695e+00, -6.32230118e+00],\n",
              "       [-7.04403750e+00,  4.66719659e-01],\n",
              "       [-9.26713629e+00, -6.47839827e-01],\n",
              "       [-8.38975840e+00,  2.54855289e+00],\n",
              "       [-6.57727169e+00,  3.22506872e-01],\n",
              "       [-6.40678862e+00, -6.19527007e-02]])"
            ]
          },
          "metadata": {},
          "execution_count": 33
        }
      ]
    },
    {
      "cell_type": "code",
      "source": [
        "from sklearn import neighbors\n",
        "mins = 3\n",
        "nn = NearestNeighbors(mins + 1)\n",
        "\n",
        "#nn.fit(pcaData(x,y))\n",
        "#distances, neighbors = nn.kneighbors(pcaData(x,y))\n",
        "\n",
        "#distances"
      ],
      "metadata": {
        "colab": {
          "base_uri": "https://localhost:8080/",
          "height": 246
        },
        "id": "IuFDORp0lKL-",
        "outputId": "fb759df4-9f03-41b8-f46a-c7ec12427666"
      },
      "execution_count": 38,
      "outputs": [
        {
          "output_type": "error",
          "ename": "TypeError",
          "evalue": "ignored",
          "traceback": [
            "\u001b[0;31m---------------------------------------------------------------------------\u001b[0m",
            "\u001b[0;31mTypeError\u001b[0m                                 Traceback (most recent call last)",
            "\u001b[0;32m<ipython-input-38-c16df21f8517>\u001b[0m in \u001b[0;36m<module>\u001b[0;34m()\u001b[0m\n\u001b[1;32m      1\u001b[0m \u001b[0;32mfrom\u001b[0m \u001b[0msklearn\u001b[0m \u001b[0;32mimport\u001b[0m \u001b[0mneighbors\u001b[0m\u001b[0;34m\u001b[0m\u001b[0;34m\u001b[0m\u001b[0m\n\u001b[1;32m      2\u001b[0m \u001b[0mmins\u001b[0m \u001b[0;34m=\u001b[0m \u001b[0;36m3\u001b[0m\u001b[0;34m\u001b[0m\u001b[0;34m\u001b[0m\u001b[0m\n\u001b[0;32m----> 3\u001b[0;31m \u001b[0mnn\u001b[0m \u001b[0;34m=\u001b[0m \u001b[0mNearestNeighbors\u001b[0m\u001b[0;34m(\u001b[0m\u001b[0mmins\u001b[0m \u001b[0;34m+\u001b[0m \u001b[0;36m1\u001b[0m\u001b[0;34m)\u001b[0m\u001b[0;34m\u001b[0m\u001b[0;34m\u001b[0m\u001b[0m\n\u001b[0m\u001b[1;32m      4\u001b[0m \u001b[0;34m\u001b[0m\u001b[0m\n\u001b[1;32m      5\u001b[0m \u001b[0;31m#nn.fit(pcaData(x,y))\u001b[0m\u001b[0;34m\u001b[0m\u001b[0;34m\u001b[0m\u001b[0;34m\u001b[0m\u001b[0m\n",
            "\u001b[0;31mTypeError\u001b[0m: __init__() takes 1 positional argument but 2 were given"
          ]
        }
      ]
    },
    {
      "cell_type": "code",
      "source": [
        ""
      ],
      "metadata": {
        "id": "-1IWk72XugEu"
      },
      "execution_count": null,
      "outputs": []
    }
  ]
}